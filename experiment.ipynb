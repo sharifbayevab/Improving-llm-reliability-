{
 "cells": [
  {
   "cell_type": "code",
   "execution_count": 1,
   "id": "5d8579dc-57cb-4599-9ea8-0f9b4d8d3588",
   "metadata": {},
   "outputs": [],
   "source": [
    "from langchain_core.runnables import RunnableLambda\n",
    "from langchain_core.messages import SystemMessage, HumanMessage, AIMessage\n",
    "from langchain_ollama import ChatOllama\n",
    "from tqdm import tqdm\n",
    "import os, psutil"
   ]
  },
  {
   "cell_type": "code",
   "execution_count": 2,
   "id": "3225399a-bed1-493e-b7f4-3cfdb722a412",
   "metadata": {},
   "outputs": [],
   "source": [
    "!export KAGGLE_USERNAME=sharifbayev\n",
    "!export KAGGLE_KEY=bb458b206d8bb9ab7c35ec53ca5676c2"
   ]
  },
  {
   "cell_type": "code",
   "execution_count": 3,
   "id": "c7b052ad-553c-410a-b1b3-121a6dcba6da",
   "metadata": {},
   "outputs": [
    {
     "data": {
      "application/vnd.jupyter.widget-view+json": {
       "model_id": "aedc07c9df424609b52de188c3794abd",
       "version_major": 2,
       "version_minor": 0
      },
      "text/plain": [
       "VBox(children=(HTML(value='<center> <img\\nsrc=https://www.kaggle.com/static/images/site-logo.png\\nalt=\\'Kaggle…"
      ]
     },
     "metadata": {},
     "output_type": "display_data"
    },
    {
     "name": "stdout",
     "output_type": "stream",
     "text": [
      "Path to dataset files: /Users/adon/.cache/kagglehub/datasets/niyarrbarman/symptom2disease/versions/1\n"
     ]
    }
   ],
   "source": [
    "import kagglehub\n",
    "kagglehub.login()\n",
    "\n",
    "path_1 = kagglehub.dataset_download(\"niyarrbarman/symptom2disease\")\n",
    "\n",
    "print(\"Path to dataset files:\", path_1)"
   ]
  },
  {
   "cell_type": "code",
   "execution_count": 4,
   "id": "978a9de4-91d1-44ae-8ef9-0f9300f3bc46",
   "metadata": {},
   "outputs": [
    {
     "name": "stdout",
     "output_type": "stream",
     "text": [
      "Path to dataset files: /Users/adon/.cache/kagglehub/datasets/pawan2905/tweet-classification/versions/1\n"
     ]
    }
   ],
   "source": [
    "import kagglehub\n",
    "\n",
    "# Download latest version\n",
    "path_2 = kagglehub.dataset_download(\"pawan2905/tweet-classification\")\n",
    "\n",
    "print(\"Path to dataset files:\", path_2)"
   ]
  },
  {
   "cell_type": "code",
   "execution_count": 5,
   "id": "b0443e5d-e7b4-415e-8948-f4de9dfe98d6",
   "metadata": {},
   "outputs": [],
   "source": [
    "import pandas as pd"
   ]
  },
  {
   "cell_type": "code",
   "execution_count": 6,
   "id": "7eb07ebc-38ef-4703-8861-f2b0f0356b00",
   "metadata": {},
   "outputs": [],
   "source": [
    "df_1 = pd.read_csv(path_1+\"/Symptom2Disease.csv\")\n",
    "df_2 = pd.read_csv(path_2+\"/Data.csv\")\n",
    "df_3 = pd.read_csv(\"dataset/data_text.csv\")"
   ]
  },
  {
   "cell_type": "code",
   "execution_count": 7,
   "id": "09cdd1da-8f19-4350-824a-b84fac66bf74",
   "metadata": {},
   "outputs": [
    {
     "data": {
      "text/plain": [
       "(      Unnamed: 0      label                                               text\n",
       " 0              0  Psoriasis  I have been experiencing a skin rash on my arm...\n",
       " 1              1  Psoriasis  My skin has been peeling, especially on my kne...\n",
       " 2              2  Psoriasis  I have been experiencing joint pain in my fing...\n",
       " 3              3  Psoriasis  There is a silver like dusting on my skin, esp...\n",
       " 4              4  Psoriasis  My nails have small dents or pits in them, and...\n",
       " ...          ...        ...                                                ...\n",
       " 1195         295   diabetes  I'm shaking and trembling all over. I've lost ...\n",
       " 1196         296   diabetes  Particularly in the crevices of my skin, I hav...\n",
       " 1197         297   diabetes  I regularly experience these intense urges and...\n",
       " 1198         298   diabetes  I have trouble breathing, especially outside. ...\n",
       " 1199         299   diabetes  I constantly sneeze and have a dry cough. My i...\n",
       " \n",
       " [1200 rows x 3 columns],\n",
       "          UserId  TweetId                                              Tweet  \\\n",
       " 0      10030778   413205      Intravenous azithromycin-induced ototoxicity.   \n",
       " 1      10048291   528244  Immobilization, while Paget's bone disease was...   \n",
       " 2      10048291   361834  Unaccountable severe hypercalcemia in a patien...   \n",
       " 3      10082597   292240  METHODS: We report two cases of pseudoporphyri...   \n",
       " 4      10082597   467101  METHODS: We report two cases of pseudoporphyri...   \n",
       " ...         ...      ...                                                ...   \n",
       " 23511  17921794   146275  At autopsy, the liver was found to be small, s...   \n",
       " 23512  17921794   375409  Physical exam revealed a patient with aphasia,...   \n",
       " 23513  17921794   246581  At the time when the leukemia appeared seven o...   \n",
       " 23514  17921794   534599  The American Society for Regional Anesthesia a...   \n",
       " 23515  17921794   660865  Concomitant administration of estradiol result...   \n",
       " \n",
       "        ADR_label  \n",
       " 0              1  \n",
       " 1              1  \n",
       " 2              1  \n",
       " 3              1  \n",
       " 4              1  \n",
       " ...          ...  \n",
       " 23511          0  \n",
       " 23512          0  \n",
       " 23513          0  \n",
       " 23514          0  \n",
       " 23515          0  \n",
       " \n",
       " [23516 rows x 4 columns],\n",
       "            ID                                             tweets  label\n",
       " 0      413205      Intravenous azithromycin-induced ototoxicity.      1\n",
       " 1      528244  Immobilization, while Paget's bone disease was...      1\n",
       " 2      361834  Unaccountable severe hypercalcemia in a patien...      1\n",
       " 3      292240  METHODS: We report two cases of pseudoporphyri...      1\n",
       " 4      467101  METHODS: We report two cases of pseudoporphyri...      1\n",
       " ...       ...                                                ...    ...\n",
       " 23511  146275  At autopsy, the liver was found to be small, s...      0\n",
       " 23512  375409  Physical exam revealed a patient with aphasia,...      0\n",
       " 23513  246581  At the time when the leukemia appeared seven o...      0\n",
       " 23514  534599  The American Society for Regional Anesthesia a...      0\n",
       " 23515  660865  Concomitant administration of estradiol result...      0\n",
       " \n",
       " [23516 rows x 3 columns])"
      ]
     },
     "execution_count": 7,
     "metadata": {},
     "output_type": "execute_result"
    }
   ],
   "source": [
    "df_1, df_2, df_3"
   ]
  },
  {
   "cell_type": "code",
   "execution_count": 8,
   "id": "b950358b-addc-400f-979e-ae70ea8bbb9c",
   "metadata": {},
   "outputs": [
    {
     "name": "stderr",
     "output_type": "stream",
     "text": [
      "/var/folders/ky/_k07xrgn5c90x98xtdjqg99c0000gn/T/ipykernel_90360/1121717789.py:4: DeprecationWarning: DataFrameGroupBy.apply operated on the grouping columns. This behavior is deprecated, and in a future version of pandas the grouping columns will be excluded from the operation. Either pass `include_groups=False` to exclude the groupings or explicitly select the grouping columns after groupby to silence this warning.\n",
      "  .apply(lambda x: x.sample(min(n_prompt, len(x)), random_state=42))\n"
     ]
    }
   ],
   "source": [
    "n_prompt = 10\n",
    "prompt_df = (\n",
    "    df_1.groupby('label', group_keys=False)\n",
    "        .apply(lambda x: x.sample(min(n_prompt, len(x)), random_state=42))\n",
    "        .reset_index(drop=True)\n",
    ")\n",
    "prompt_indices = set(prompt_df.index)"
   ]
  },
  {
   "cell_type": "code",
   "execution_count": 9,
   "id": "3e82a19c-e9fe-4e07-98b9-54fd2676632d",
   "metadata": {},
   "outputs": [
    {
     "name": "stderr",
     "output_type": "stream",
     "text": [
      "/var/folders/ky/_k07xrgn5c90x98xtdjqg99c0000gn/T/ipykernel_90360/2130847956.py:8: DeprecationWarning: DataFrameGroupBy.apply operated on the grouping columns. This behavior is deprecated, and in a future version of pandas the grouping columns will be excluded from the operation. Either pass `include_groups=False` to exclude the groupings or explicitly select the grouping columns after groupby to silence this warning.\n",
      "  .apply(lambda x: x.sample(min(n_test_per_class, len(x)), random_state=43))\n"
     ]
    }
   ],
   "source": [
    "test_candidates = df_1.drop(prompt_df.index)\n",
    "\n",
    "# Для теста — stratified sample по 500/число классов на каждый класс:\n",
    "n_test_per_class = 700 // df_1['label'].nunique()\n",
    "\n",
    "test_df = (\n",
    "    test_candidates.groupby('label', group_keys=False)\n",
    "        .apply(lambda x: x.sample(min(n_test_per_class, len(x)), random_state=43))\n",
    "        .reset_index(drop=True)\n",
    ")\n",
    "\n",
    "# Проверим баланс\n",
    "# print(test_df['label'].value_counts())\n"
   ]
  },
  {
   "cell_type": "code",
   "execution_count": 10,
   "id": "722b18dc-1829-4064-a27b-f137317b24f8",
   "metadata": {},
   "outputs": [],
   "source": [
    "prompt_df['PROMPT'] = prompt_df['text'].apply(\n",
    "    lambda x: f\"Patient description: {x}\\nWhat is the most likely diagnosis?\"\n",
    ")\n",
    "prompt_df['ANSWER'] = prompt_df['label']\n",
    "\n",
    "test_df['PROMPT'] = test_df['text'].apply(\n",
    "    lambda x: f\"Patient description: {x}\\nWhat is the most likely diagnosis?\"\n",
    ")\n",
    "test_df['ANSWER'] = test_df['label']\n"
   ]
  },
  {
   "cell_type": "code",
   "execution_count": 12,
   "id": "165d124b-1c15-4503-92a2-601900c2b1f1",
   "metadata": {},
   "outputs": [
    {
     "name": "stderr",
     "output_type": "stream",
     "text": [
      "/var/folders/ky/_k07xrgn5c90x98xtdjqg99c0000gn/T/ipykernel_90360/1509248842.py:47: DeprecationWarning: DataFrameGroupBy.apply operated on the grouping columns. This behavior is deprecated, and in a future version of pandas the grouping columns will be excluded from the operation. Either pass `include_groups=False` to exclude the groupings or explicitly select the grouping columns after groupby to silence this warning.\n",
      "  .apply(lambda x: x.sample(n=min(n_shots, len(x)), random_state=42))\n"
     ]
    },
    {
     "name": "stdout",
     "output_type": "stream",
     "text": [
      "============== phi3:3.8b =============\n"
     ]
    },
    {
     "name": "stderr",
     "output_type": "stream",
     "text": [
      "100%|████████████████████████████████████████████████████████████████████████████████████████████████████████████████████████████████████████████████████████████████████| 561/561 [04:07<00:00,  2.27it/s]\n",
      "/var/folders/ky/_k07xrgn5c90x98xtdjqg99c0000gn/T/ipykernel_90360/1509248842.py:47: DeprecationWarning: DataFrameGroupBy.apply operated on the grouping columns. This behavior is deprecated, and in a future version of pandas the grouping columns will be excluded from the operation. Either pass `include_groups=False` to exclude the groupings or explicitly select the grouping columns after groupby to silence this warning.\n",
      "  .apply(lambda x: x.sample(n=min(n_shots, len(x)), random_state=42))\n"
     ]
    },
    {
     "name": "stdout",
     "output_type": "stream",
     "text": [
      "Accuracy: 0.242\n"
     ]
    },
    {
     "name": "stderr",
     "output_type": "stream",
     "text": [
      "100%|████████████████████████████████████████████████████████████████████████████████████████████████████████████████████████████████████████████████████████████████████| 561/561 [03:09<00:00,  2.96it/s]\n",
      "/var/folders/ky/_k07xrgn5c90x98xtdjqg99c0000gn/T/ipykernel_90360/1509248842.py:47: DeprecationWarning: DataFrameGroupBy.apply operated on the grouping columns. This behavior is deprecated, and in a future version of pandas the grouping columns will be excluded from the operation. Either pass `include_groups=False` to exclude the groupings or explicitly select the grouping columns after groupby to silence this warning.\n",
      "  .apply(lambda x: x.sample(n=min(n_shots, len(x)), random_state=42))\n"
     ]
    },
    {
     "name": "stdout",
     "output_type": "stream",
     "text": [
      "Accuracy: 0.431\n"
     ]
    },
    {
     "name": "stderr",
     "output_type": "stream",
     "text": [
      "100%|████████████████████████████████████████████████████████████████████████████████████████████████████████████████████████████████████████████████████████████████████| 561/561 [03:12<00:00,  2.92it/s]\n",
      "/var/folders/ky/_k07xrgn5c90x98xtdjqg99c0000gn/T/ipykernel_90360/1509248842.py:47: DeprecationWarning: DataFrameGroupBy.apply operated on the grouping columns. This behavior is deprecated, and in a future version of pandas the grouping columns will be excluded from the operation. Either pass `include_groups=False` to exclude the groupings or explicitly select the grouping columns after groupby to silence this warning.\n",
      "  .apply(lambda x: x.sample(n=min(n_shots, len(x)), random_state=42))\n"
     ]
    },
    {
     "name": "stdout",
     "output_type": "stream",
     "text": [
      "Accuracy: 0.647\n",
      "Memory used: 260 MB\n",
      "Memory used: 260 MB\n",
      "============== gemma3:4b =============\n"
     ]
    },
    {
     "name": "stderr",
     "output_type": "stream",
     "text": [
      "100%|████████████████████████████████████████████████████████████████████████████████████████████████████████████████████████████████████████████████████████████████████| 561/561 [01:32<00:00,  6.07it/s]\n",
      "/var/folders/ky/_k07xrgn5c90x98xtdjqg99c0000gn/T/ipykernel_90360/1509248842.py:47: DeprecationWarning: DataFrameGroupBy.apply operated on the grouping columns. This behavior is deprecated, and in a future version of pandas the grouping columns will be excluded from the operation. Either pass `include_groups=False` to exclude the groupings or explicitly select the grouping columns after groupby to silence this warning.\n",
      "  .apply(lambda x: x.sample(n=min(n_shots, len(x)), random_state=42))\n"
     ]
    },
    {
     "name": "stdout",
     "output_type": "stream",
     "text": [
      "Accuracy: 0.481\n"
     ]
    },
    {
     "name": "stderr",
     "output_type": "stream",
     "text": [
      "100%|████████████████████████████████████████████████████████████████████████████████████████████████████████████████████████████████████████████████████████████████████| 561/561 [12:32<00:00,  1.34s/it]\n",
      "/var/folders/ky/_k07xrgn5c90x98xtdjqg99c0000gn/T/ipykernel_90360/1509248842.py:47: DeprecationWarning: DataFrameGroupBy.apply operated on the grouping columns. This behavior is deprecated, and in a future version of pandas the grouping columns will be excluded from the operation. Either pass `include_groups=False` to exclude the groupings or explicitly select the grouping columns after groupby to silence this warning.\n",
      "  .apply(lambda x: x.sample(n=min(n_shots, len(x)), random_state=42))\n"
     ]
    },
    {
     "name": "stdout",
     "output_type": "stream",
     "text": [
      "Accuracy: 0.565\n"
     ]
    },
    {
     "name": "stderr",
     "output_type": "stream",
     "text": [
      "100%|████████████████████████████████████████████████████████████████████████████████████████████████████████████████████████████████████████████████████████████████████| 561/561 [22:06<00:00,  2.36s/it]\n",
      "/var/folders/ky/_k07xrgn5c90x98xtdjqg99c0000gn/T/ipykernel_90360/1509248842.py:47: DeprecationWarning: DataFrameGroupBy.apply operated on the grouping columns. This behavior is deprecated, and in a future version of pandas the grouping columns will be excluded from the operation. Either pass `include_groups=False` to exclude the groupings or explicitly select the grouping columns after groupby to silence this warning.\n",
      "  .apply(lambda x: x.sample(n=min(n_shots, len(x)), random_state=42))\n"
     ]
    },
    {
     "name": "stdout",
     "output_type": "stream",
     "text": [
      "Accuracy: 0.724\n",
      "Memory used: 261 MB\n",
      "Memory used: 261 MB\n",
      "============== llama3.2:3b =============\n"
     ]
    },
    {
     "name": "stderr",
     "output_type": "stream",
     "text": [
      "100%|████████████████████████████████████████████████████████████████████████████████████████████████████████████████████████████████████████████████████████████████████| 561/561 [01:11<00:00,  7.79it/s]\n",
      "/var/folders/ky/_k07xrgn5c90x98xtdjqg99c0000gn/T/ipykernel_90360/1509248842.py:47: DeprecationWarning: DataFrameGroupBy.apply operated on the grouping columns. This behavior is deprecated, and in a future version of pandas the grouping columns will be excluded from the operation. Either pass `include_groups=False` to exclude the groupings or explicitly select the grouping columns after groupby to silence this warning.\n",
      "  .apply(lambda x: x.sample(n=min(n_shots, len(x)), random_state=42))\n"
     ]
    },
    {
     "name": "stdout",
     "output_type": "stream",
     "text": [
      "Accuracy: 0.422\n"
     ]
    },
    {
     "name": "stderr",
     "output_type": "stream",
     "text": [
      "100%|████████████████████████████████████████████████████████████████████████████████████████████████████████████████████████████████████████████████████████████████████| 561/561 [01:13<00:00,  7.66it/s]\n",
      "/var/folders/ky/_k07xrgn5c90x98xtdjqg99c0000gn/T/ipykernel_90360/1509248842.py:47: DeprecationWarning: DataFrameGroupBy.apply operated on the grouping columns. This behavior is deprecated, and in a future version of pandas the grouping columns will be excluded from the operation. Either pass `include_groups=False` to exclude the groupings or explicitly select the grouping columns after groupby to silence this warning.\n",
      "  .apply(lambda x: x.sample(n=min(n_shots, len(x)), random_state=42))\n"
     ]
    },
    {
     "name": "stdout",
     "output_type": "stream",
     "text": [
      "Accuracy: 0.561\n"
     ]
    },
    {
     "name": "stderr",
     "output_type": "stream",
     "text": [
      "100%|████████████████████████████████████████████████████████████████████████████████████████████████████████████████████████████████████████████████████████████████████| 561/561 [01:22<00:00,  6.76it/s]\n"
     ]
    },
    {
     "name": "stdout",
     "output_type": "stream",
     "text": [
      "Accuracy: 0.693\n",
      "Memory used: 261 MB\n",
      "Memory used: 261 MB\n",
      "           llm  n_shots  accuracy\n",
      "0    phi3:3.8b        0  0.242424\n",
      "1    phi3:3.8b        1  0.431373\n",
      "2    phi3:3.8b        2  0.647059\n",
      "3    gemma3:4b        0  0.481283\n",
      "4    gemma3:4b        1  0.565062\n",
      "5    gemma3:4b        2  0.723708\n",
      "6  llama3.2:3b        0  0.422460\n",
      "7  llama3.2:3b        1  0.561497\n",
      "8  llama3.2:3b        2  0.693405\n"
     ]
    }
   ],
   "source": [
    "from tqdm import tqdm\n",
    "import pandas as pd\n",
    "import re\n",
    "\n",
    "def get_llm_prediction(text, llm, system_prompt):\n",
    "    messages = [SystemMessage(content=system_prompt)] + [HumanMessage(content=text)]\n",
    "    response = llm.invoke(messages)\n",
    "    return response.content.strip()\n",
    "\n",
    "def strip_think(text: str) -> str:\n",
    "    return re.sub(r'<think>.*?</think>', '', text, flags=re.DOTALL).strip()\n",
    "\n",
    "def build_few_shot_system_prompt(fewshot_examples, all_labels):\n",
    "    prompt = (\n",
    "        f\"You are a medical diagnosis assistant. For each patient description, output only the diagnosis label from this list: {all_labels}.\\n\"\n",
    "        \"Examples:\\n\"\n",
    "    )\n",
    "    for _, row in fewshot_examples.iterrows():\n",
    "        prompt += f\"Patient: {row['text']}\\nDiagnosis: {row['label']}\\n\"\n",
    "    prompt += \"\\nNow, given the following patient description, provide only the diagnosis label.\"\n",
    "    return prompt\n",
    "\n",
    "def run_experiment(df, llm, system_prompt, result_file):\n",
    "    predictions = []\n",
    "    for prompt in tqdm(df[\"PROMPT\"].tolist()):\n",
    "        pred = strip_think(get_llm_prediction(prompt, llm, system_prompt))\n",
    "        predictions.append(pred)\n",
    "    df_result = df.copy()\n",
    "    df_result[\"PREDICTED\"] = predictions\n",
    "    acc = (df_result[\"ANSWER\"].astype(str).str.lower().str.strip() == df_result[\"PREDICTED\"].astype(str).str.lower().str.strip()).mean()\n",
    "    print(f\"Accuracy: {acc:.3f}\")\n",
    "    df_result.to_csv(result_file, index=False)\n",
    "    return acc\n",
    "\n",
    "n_shots_list = [0, 1, 2, 5, 10]\n",
    "all_labels = sorted(df_1['label'].unique())\n",
    "llm_list = [\"phi3:3.8b\", \"gemma3:4b\", \"llama3.2:3b\"] #, \"qwen3:4b\"\n",
    "\n",
    "results = []\n",
    "\n",
    "for llm_name in llm_list:\n",
    "    print(f\"============== {llm_name} =============\")\n",
    "    llm = ChatOllama(model=llm_name, temperature=0)\n",
    "    for n_shots in n_shots_list:\n",
    "        if llm_name==\"phi3:3.8b\" and n_shots > 2:\n",
    "            continue\n",
    "        fewshot_examples = (\n",
    "            prompt_df.groupby('label', group_keys=False)\n",
    "            .apply(lambda x: x.sample(n=min(n_shots, len(x)), random_state=42))\n",
    "            .reset_index(drop=True)\n",
    "        )\n",
    "        system_prompt = build_few_shot_system_prompt(fewshot_examples, all_labels)\n",
    "\n",
    "        df_test = test_df[[\"PROMPT\", \"ANSWER\"]]\n",
    "        acc = run_experiment(\n",
    "            df_test, llm, system_prompt,\n",
    "            result_file=f\"diagnosis_{llm_name}_fewshot{n_shots}.csv\"\n",
    "        )\n",
    "        results.append({\"llm\": llm_name, \"n_shots\": n_shots, \"accuracy\": acc})\n",
    "        \n",
    "    print(f\"Memory used: {psutil.Process(os.getpid()).memory_info().rss // 2**20} MB\")\n",
    "    del llm\n",
    "    import gc; gc.collect()\n",
    "    import os, psutil\n",
    "    print(f\"Memory used: {psutil.Process(os.getpid()).memory_info().rss // 2**20} MB\")\n",
    "\n",
    "results_df = pd.DataFrame(results)\n",
    "results_df.to_csv(\"diagnosis_fewshot_summary_2.csv\", index=False)\n",
    "print(results_df)\n"
   ]
  },
  {
   "cell_type": "code",
   "execution_count": 43,
   "id": "a28f1fab-2c5b-4cb0-92e6-10985ca7a54a",
   "metadata": {},
   "outputs": [
    {
     "data": {
      "image/png": "[encoded data removed]",
      "text/plain": [
       "<Figure size 800x500 with 1 Axes>"
      ]
     },
     "metadata": {},
     "output_type": "display_data"
    }
   ],
   "source": [
    "import matplotlib.pyplot as plt\n",
    "\n",
    "# Данные\n",
    "import pandas as pd\n",
    "df = pd.DataFrame({\n",
    "    'llm': [\n",
    "        'phi3:3.8b', 'phi3:3.8b', 'phi3:3.8b',\n",
    "        'gemma3:4b', 'gemma3:4b', 'gemma3:4b',\n",
    "        'llama3.2:3b', 'llama3.2:3b', 'llama3.2:3b'\n",
    "    ],\n",
    "    'n_shots': [0, 1, 2, 0, 1, 2, 0, 1, 2],\n",
    "    'accuracy': [\n",
    "        0.242424, 0.431373, 0.647059,\n",
    "        0.481283, 0.565062, 0.723708,\n",
    "        0.422460, 0.561497, 0.693405\n",
    "    ]\n",
    "})\n",
    "\n",
    "plt.figure(figsize=(8,5))\n",
    "for llm in df['llm'].unique():\n",
    "    sub = df[df['llm']==llm]\n",
    "    plt.plot(sub['n_shots'], sub['accuracy'], marker='o', label=llm)\n",
    "\n",
    "plt.xlabel('n_shots')\n",
    "plt.ylabel('Accuracy')\n",
    "plt.title('The effect of the number of few-shot examples on accuracy')\n",
    "plt.xticks([0, 1, 2])\n",
    "plt.legend()\n",
    "plt.grid(True, linestyle='--', alpha=0.5)\n",
    "plt.tight_layout()\n",
    "plt.show()\n"
   ]
  },
  {
   "cell_type": "code",
   "execution_count": 16,
   "id": "869669b8-b5ff-493c-92d0-ce47713cb772",
   "metadata": {},
   "outputs": [
    {
     "name": "stdout",
     "output_type": "stream",
     "text": [
      "Untitled.ipynb                     diagnosis_llama3.2:3b_fewshot1.csv\n",
      "\u001b[34mdataset\u001b[m\u001b[m                            diagnosis_llama3.2:3b_fewshot2.csv\n",
      "diagnosis_fewshot_summary.csv      diagnosis_phi3:3.8b_fewshot0.csv\n",
      "diagnosis_gemma3:4b_fewshot0.csv   diagnosis_phi3:3.8b_fewshot1.csv\n",
      "diagnosis_gemma3:4b_fewshot1.csv   diagnosis_phi3:3.8b_fewshot2.csv\n",
      "diagnosis_gemma3:4b_fewshot2.csv   main.py\n",
      "diagnosis_llama3.2:3b_fewshot0.csv\n"
     ]
    }
   ],
   "source": [
    "!ls"
   ]
  },
  {
   "cell_type": "code",
   "execution_count": 27,
   "id": "2038221b-3f8a-4f28-bae5-7e9d32ffc0f4",
   "metadata": {},
   "outputs": [],
   "source": [
    "import pandas as pd\n",
    "from glob import glob\n",
    "\n",
    "# Сопоставление имён файлов и параметров\n",
    "file_info = [\n",
    "    ('diagnosis_phi3:3.8b_fewshot0.csv',     'phi3:3.8b', 0),\n",
    "    ('diagnosis_phi3:3.8b_fewshot1.csv',     'phi3:3.8b', 1),\n",
    "    ('diagnosis_phi3:3.8b_fewshot2.csv',     'phi3:3.8b', 2),\n",
    "    ('diagnosis_gemma3:4b_fewshot0.csv',     'gemma3:4b', 0),\n",
    "    ('diagnosis_gemma3:4b_fewshot1.csv',     'gemma3:4b', 1),\n",
    "    ('diagnosis_gemma3:4b_fewshot2.csv',     'gemma3:4b', 2),\n",
    "    ('diagnosis_llama3.2:3b_fewshot0.csv',   'llama3.2:3b', 0),\n",
    "    ('diagnosis_llama3.2:3b_fewshot1.csv',   'llama3.2:3b', 1),\n",
    "    ('diagnosis_llama3.2:3b_fewshot2.csv',   'llama3.2:3b', 2),\n",
    "]\n",
    "\n",
    "all_results = []\n",
    "\n",
    "for fname, llm, n_shots in file_info:\n",
    "    df = pd.read_csv(fname)\n",
    "    # Приводим к общему формату: PROMPT, ANSWER (ground truth), PREDICTED (model)\n",
    "    df = df.rename(columns={col: col.lower() for col in df.columns})\n",
    "    df['llm'] = llm\n",
    "    df['n_shots'] = n_shots\n",
    "    all_results.append(df[['prompt', 'answer', 'predicted', 'llm', 'n_shots']])\n",
    "\n",
    "results = pd.concat(all_results, ignore_index=True)\n",
    "results.rename(columns={'answer': 'true_label', 'predicted': 'pred_label'}, inplace=True)\n",
    "results['true_label'] = results['true_label'].str.lower().str.strip()\n",
    "results['pred_label'] = results['pred_label'].str.lower().str.strip()"
   ]
  },
  {
   "cell_type": "code",
   "execution_count": 28,
   "id": "c0eef7d1-b220-40c0-b221-9336611c1c97",
   "metadata": {},
   "outputs": [
    {
     "name": "stdout",
     "output_type": "stream",
     "text": [
      "             llm  n_shots        true_label            pred_label  count\n",
      "47     gemma3:4b        0      hypertension              migraine     29\n",
      "199  llama3.2:3b        0      hypertension              migraine     29\n",
      "683    phi3:3.8b        1           malaria                dengue     29\n",
      "331    phi3:3.8b        0              acne              impetigo     28\n",
      "212  llama3.2:3b        0         pneumonia      bronchial asthma     27\n",
      "10     gemma3:4b        0  bronchial asthma             pneumonia     27\n",
      "348    phi3:3.8b        0         arthritis  cervical spondylosis     26\n",
      "257  llama3.2:3b        1  fungal infection             psoriasis     25\n",
      "679    phi3:3.8b        1      hypertension              migraine     24\n",
      "63     gemma3:4b        1  bronchial asthma             pneumonia     23\n",
      "355    phi3:3.8b        0  bronchial asthma             pneumonia     23\n",
      "262  llama3.2:3b        1      hypertension              migraine     22\n",
      "168  llama3.2:3b        0       common cold      bronchial asthma     21\n",
      "195  llama3.2:3b        0  fungal infection             psoriasis     20\n",
      "94     gemma3:4b        1      hypertension              migraine     20\n"
     ]
    }
   ],
   "source": [
    "# Считаем ошибки\n",
    "errors = results[results['true_label'] != results['pred_label']]\n",
    "# Сколько ошибок на каждую пару (true, predicted) по модели и n_shots\n",
    "err_stat = (\n",
    "    errors.groupby(['llm', 'n_shots', 'true_label', 'pred_label'])\n",
    "    .size()\n",
    "    .reset_index(name='count')\n",
    "    .sort_values('count', ascending=False)\n",
    ")\n",
    "# Топ ошибок по каждой модели и числу шотов\n",
    "print(err_stat.head(15))\n"
   ]
  },
  {
   "cell_type": "code",
   "execution_count": 44,
   "id": "b0f21625-d343-419e-b31b-d2b83801232e",
   "metadata": {},
   "outputs": [],
   "source": [
    "import os\n",
    "import pandas as pd\n",
    "import matplotlib.pyplot as plt\n",
    "import seaborn as sns\n",
    "\n",
    "# Все уникальные метки (диагнозы)\n",
    "label_list = sorted(results['true_label'].unique())\n",
    "\n",
    "# Создаём папку 'results', если её ещё нет\n",
    "os.makedirs('results', exist_ok=True)\n",
    "\n",
    "for llm in results['llm'].unique():\n",
    "    for n in sorted(results['n_shots'].unique()):\n",
    "        subset = results[(results['llm'] == llm) & (results['n_shots'] == n)]\n",
    "        \n",
    "        # Строим табличку с подсчётом\n",
    "        cm = pd.crosstab(\n",
    "            subset['true_label'],\n",
    "            subset['pred_label'],\n",
    "            dropna=False\n",
    "        )\n",
    "        # Реиндексируем по полному списку label_list\n",
    "        cm = cm.reindex(index=label_list, columns=label_list, fill_value=0)\n",
    "        \n",
    "        # Визуализация\n",
    "        plt.figure(figsize=(8, 6))\n",
    "        sns.heatmap(cm, annot=True, fmt=\"d\", cmap='Blues',\n",
    "                    xticklabels=label_list, yticklabels=label_list)\n",
    "        plt.xlabel(\"Predicted\")\n",
    "        plt.ylabel(\"True label\")\n",
    "        plt.title(f\"Confusion Matrix: {llm}, n_shots={n}\")\n",
    "        plt.tight_layout()\n",
    "        \n",
    "        # Сохраняем картинку в папку 'results'\n",
    "        fname = f\"results/confusion_matrix_{llm}_n_shots_{n}.png\"\n",
    "        plt.savefig(fname)\n",
    "        plt.close()  # Закрываем, чтобы не скапливались лишние картинки в памяти\n"
   ]
  },
  {
   "cell_type": "code",
   "execution_count": 45,
   "id": "45962ab2-300b-4a15-b6bc-d4ece7fc1e60",
   "metadata": {},
   "outputs": [
    {
     "name": "stdout",
     "output_type": "stream",
     "text": [
      "=== phi3:3.8b ===\n",
      " n_shots=0\n",
      "           true_label            pred_label  count\n",
      "331              acne              impetigo     28\n",
      "348         arthritis  cervical spondylosis     26\n",
      "355  bronchial asthma             pneumonia     23\n",
      "500      hypertension              migraine     19\n",
      "507           malaria                dengue     13\n",
      " n_shots=1\n",
      "                          true_label                              pred_label  \\\n",
      "683                          malaria                                  dengue   \n",
      "679                     hypertension                                migraine   \n",
      "705                        pneumonia                        bronchial asthma   \n",
      "667  gastroesophageal reflux disease  gastroesophageal reflux disease (gerd)   \n",
      "701             peptic ulcer disease  gastroesophageal reflux disease (gerd)   \n",
      "\n",
      "     count  \n",
      "683     29  \n",
      "679     24  \n",
      "705     19  \n",
      "667     18  \n",
      "701     12  \n",
      " n_shots=2\n",
      "                          true_label                              pred_label  \\\n",
      "793  gastroesophageal reflux disease  gastroesophageal reflux disease (gerd)   \n",
      "813                          malaria                                  dengue   \n",
      "830                        pneumonia                        bronchial asthma   \n",
      "820             peptic ulcer disease  gastroesophageal reflux disease (gerd)   \n",
      "778                    drug reaction                                diabetes   \n",
      "\n",
      "     count  \n",
      "793     14  \n",
      "813      8  \n",
      "830      8  \n",
      "820      7  \n",
      "778      6  \n",
      "\n",
      "=== gemma3:4b ===\n",
      " n_shots=0\n",
      "              true_label                       pred_label  count\n",
      "47          hypertension                         migraine     29\n",
      "10      bronchial asthma                        pneumonia     27\n",
      "54  peptic ulcer disease  gastroesophageal reflux disease     14\n",
      "42      fungal infection                             acne     13\n",
      "51               malaria                           dengue     12\n",
      " n_shots=1\n",
      "               true_label            pred_label  count\n",
      "63       bronchial asthma             pneumonia     23\n",
      "94           hypertension              migraine     20\n",
      "83  dimorphic hemorrhoids  peptic ulcer disease     13\n",
      "66            common cold      bronchial asthma     13\n",
      "99                malaria           chicken pox     12\n",
      " n_shots=2\n",
      "               true_label                       pred_label  count\n",
      "112      bronchial asthma                        pneumonia     19\n",
      "114           common cold                 bronchial asthma     11\n",
      "149  peptic ulcer disease  gastroesophageal reflux disease     11\n",
      "113           common cold                          allergy     10\n",
      "134         drug reaction                         migraine      7\n",
      "\n",
      "=== llama3.2:3b ===\n",
      " n_shots=0\n",
      "               true_label                       pred_label  count\n",
      "199          hypertension                         migraine     29\n",
      "212             pneumonia                 bronchial asthma     27\n",
      "168           common cold                 bronchial asthma     21\n",
      "195      fungal infection                        psoriasis     20\n",
      "210  peptic ulcer disease  gastroesophageal reflux disease     19\n",
      " n_shots=1\n",
      "               true_label        pred_label  count\n",
      "257      fungal infection         psoriasis     25\n",
      "262          hypertension          migraine     22\n",
      "232           common cold  bronchial asthma     14\n",
      "265              migraine          diabetes     13\n",
      "267  peptic ulcer disease          diabetes     11\n",
      " n_shots=2\n",
      "               true_label                       pred_label  count\n",
      "290           common cold                 bronchial asthma     18\n",
      "298                dengue                          malaria     13\n",
      "326  peptic ulcer disease  gastroesophageal reflux disease     13\n",
      "321          hypertension                         migraine     11\n",
      "305              diabetes                         migraine      7\n",
      "\n"
     ]
    }
   ],
   "source": [
    "for llm in results['llm'].unique():\n",
    "    print(f\"=== {llm} ===\")\n",
    "    for n in sorted(results['n_shots'].unique()):\n",
    "        print(f\" n_shots={n}\")\n",
    "        err_now = err_stat[(err_stat['llm'] == llm) & (err_stat['n_shots'] == n)]\n",
    "        print(err_now.head(5)[['true_label', 'pred_label', 'count']])\n",
    "    print()\n"
   ]
  },
  {
   "cell_type": "code",
   "execution_count": 31,
   "id": "7e452b7f-b1a6-4b52-aa3c-b85a1edb1e6e",
   "metadata": {},
   "outputs": [
    {
     "name": "stdout",
     "output_type": "stream",
     "text": [
      "                                              prompt true_label pred_label\n",
      "0  Patient description: I just developed a really...       acne   impetigo\n",
      "1  Patient description: I've recently been battli...       acne   impetigo\n",
      "2  Patient description: I awoke this morning to s...       acne   impetigo\n",
      "3  Patient description: My skin has simply nonher...       acne   impetigo\n",
      "4  Patient description: I've been dealing with a ...       acne   impetigo\n"
     ]
    }
   ],
   "source": [
    "# Примеры ошибок для phi3:3.8b, n_shots=0\n",
    "example_errors = errors[(errors['llm'] == 'phi3:3.8b') & (errors['n_shots'] == 0)]\n",
    "print(example_errors[['prompt', 'true_label', 'pred_label']].head())\n"
   ]
  },
  {
   "cell_type": "code",
   "execution_count": 41,
   "id": "69fbd340-f76b-462f-8a69-c3ce6cdbc565",
   "metadata": {},
   "outputs": [
    {
     "name": "stdout",
     "output_type": "stream",
     "text": [
      "            llm  n_shots                       true_label  \\\n",
      "0     phi3:3.8b        0                             acne   \n",
      "1     phi3:3.8b        0                        arthritis   \n",
      "2     phi3:3.8b        0                 bronchial asthma   \n",
      "3     phi3:3.8b        1                          malaria   \n",
      "4     phi3:3.8b        1                     hypertension   \n",
      "5     phi3:3.8b        1                        pneumonia   \n",
      "6     phi3:3.8b        2  gastroesophageal reflux disease   \n",
      "7     phi3:3.8b        2                        pneumonia   \n",
      "8     phi3:3.8b        2                          malaria   \n",
      "9     gemma3:4b        0                     hypertension   \n",
      "10    gemma3:4b        0                 bronchial asthma   \n",
      "11    gemma3:4b        0             peptic ulcer disease   \n",
      "12    gemma3:4b        1                 bronchial asthma   \n",
      "13    gemma3:4b        1                     hypertension   \n",
      "14    gemma3:4b        1            dimorphic hemorrhoids   \n",
      "15    gemma3:4b        2                 bronchial asthma   \n",
      "16    gemma3:4b        2             peptic ulcer disease   \n",
      "17    gemma3:4b        2                      common cold   \n",
      "18  llama3.2:3b        0                     hypertension   \n",
      "19  llama3.2:3b        0                        pneumonia   \n",
      "20  llama3.2:3b        0                      common cold   \n",
      "21  llama3.2:3b        1                 fungal infection   \n",
      "22  llama3.2:3b        1                     hypertension   \n",
      "23  llama3.2:3b        1                      common cold   \n",
      "24  llama3.2:3b        2                      common cold   \n",
      "25  llama3.2:3b        2             peptic ulcer disease   \n",
      "26  llama3.2:3b        2                           dengue   \n",
      "\n",
      "                                pred_label  count  \n",
      "0                                 impetigo     28  \n",
      "1                     cervical spondylosis     26  \n",
      "2                                pneumonia     23  \n",
      "3                                   dengue     29  \n",
      "4                                 migraine     24  \n",
      "5                         bronchial asthma     19  \n",
      "6   gastroesophageal reflux disease (gerd)     14  \n",
      "7                         bronchial asthma      8  \n",
      "8                                   dengue      8  \n",
      "9                                 migraine     29  \n",
      "10                               pneumonia     27  \n",
      "11         gastroesophageal reflux disease     14  \n",
      "12                               pneumonia     23  \n",
      "13                                migraine     20  \n",
      "14                    peptic ulcer disease     13  \n",
      "15                               pneumonia     19  \n",
      "16         gastroesophageal reflux disease     11  \n",
      "17                        bronchial asthma     11  \n",
      "18                                migraine     29  \n",
      "19                        bronchial asthma     27  \n",
      "20                        bronchial asthma     21  \n",
      "21                               psoriasis     25  \n",
      "22                                migraine     22  \n",
      "23                        bronchial asthma     14  \n",
      "24                        bronchial asthma     18  \n",
      "25         gastroesophageal reflux disease     13  \n",
      "26                                 malaria     13  \n"
     ]
    }
   ],
   "source": [
    "import pandas as pd\n",
    "\n",
    "top_n = 3\n",
    "error_tables = []\n",
    "\n",
    "for llm in results['llm'].unique():\n",
    "    for n in sorted(results['n_shots'].unique()):\n",
    "        subset = results[(results['llm'] == llm) & (results['n_shots'] == n)]\n",
    "        errors = subset[subset['true_label'] != subset['pred_label']]\n",
    "        pair_counts = (\n",
    "            errors.groupby(['true_label', 'pred_label'])\n",
    "            .size()\n",
    "            .reset_index(name='count')\n",
    "            .sort_values('count', ascending=False)\n",
    "            .head(top_n)\n",
    "        )\n",
    "        pair_counts['llm'] = llm\n",
    "        pair_counts['n_shots'] = n\n",
    "        error_tables.append(pair_counts)\n",
    "\n",
    "# Объединяем всё в одну большую таблицу\n",
    "top_errors_df = pd.concat(error_tables, ignore_index=True)\n",
    "\n",
    "# Колонки выводим в нужном порядке\n",
    "top_errors_df = top_errors_df[['llm', 'n_shots', 'true_label', 'pred_label', 'count']]\n",
    "print(top_errors_df)\n",
    "\n",
    "# (По желанию — сохранить в CSV)\n",
    "# top_errors_df.to_csv(\"top_mistakes_table.csv\", index=False)\n"
   ]
  },
  {
   "cell_type": "code",
   "execution_count": 39,
   "id": "b424ef69-d47c-44ef-945c-38cc8bd960cf",
   "metadata": {},
   "outputs": [
    {
     "data": {
      "image/png": "[encoded data removed]",
      "text/plain": [
       "<Figure size 1000x500 with 1 Axes>"
      ]
     },
     "metadata": {},
     "output_type": "display_data"
    }
   ],
   "source": [
    "import matplotlib.pyplot as plt\n",
    "\n",
    "# Группируем по (true_label, pred_label) и суммируем count по всем моделям и n_shots\n",
    "summary = (top_errors_df\n",
    "    .groupby(['true_label', 'pred_label'])['count']\n",
    "    .sum()\n",
    "    .reset_index()\n",
    "    .sort_values('count', ascending=False)\n",
    "    .head(10)\n",
    ")\n",
    "\n",
    "plt.figure(figsize=(10,5))\n",
    "plt.barh(\n",
    "    summary.apply(lambda x: f\"{x['true_label']}→{x['pred_label']}\", axis=1),\n",
    "    summary['count'],\n",
    "    color='salmon'\n",
    ")\n",
    "plt.xlabel(\"Number of errors\")\n",
    "plt.ylabel(\"Confusion (True → Predicted)\")\n",
    "plt.title(\"Top-10 Persistent Errors (False Friends) of LLM on Diagnosis\")\n",
    "\n",
    "plt.gca().invert_yaxis()\n",
    "plt.tight_layout()\n",
    "plt.show()\n"
   ]
  },
  {
   "cell_type": "code",
   "execution_count": null,
   "id": "2ef569e8-2a4e-473e-a7af-05628155d6a0",
   "metadata": {},
   "outputs": [],
   "source": []
  }
 ],
 "metadata": {
  "kernelspec": {
   "display_name": "Python 3 (ipykernel)",
   "language": "python",
   "name": "python3"
  },
  "language_info": {
   "codemirror_mode": {
    "name": "ipython",
    "version": 3
   },
   "file_extension": ".py",
   "mimetype": "text/x-python",
   "name": "python",
   "nbconvert_exporter": "python",
   "pygments_lexer": "ipython3",
   "version": "3.11.5"
  }
 },
 "nbformat": 4,
 "nbformat_minor": 5
}
